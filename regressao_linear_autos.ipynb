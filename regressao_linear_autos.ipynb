{
  "nbformat": 4,
  "nbformat_minor": 0,
  "metadata": {
    "colab": {
      "name": "Untitled24.ipynb",
      "provenance": []
    },
    "kernelspec": {
      "name": "python3",
      "display_name": "Python 3"
    },
    "language_info": {
      "name": "python"
    }
  },
  "cells": [
    {
      "cell_type": "code",
      "metadata": {
        "id": "q6hOr1MUlA6_"
      },
      "source": [
        "import pandas as pd\n",
        "import tensorflow as tf\n",
        "from tensorflow.keras.models import Sequential\n",
        "from tensorflow.keras.layers import Dense"
      ],
      "execution_count": 1,
      "outputs": []
    },
    {
      "cell_type": "code",
      "metadata": {
        "id": "uHCwzWgkx8Mr"
      },
      "source": [
        "base = pd.read_csv('sample_data/autos.csv', encoding = 'ISO-8859-1')"
      ],
      "execution_count": 2,
      "outputs": []
    },
    {
      "cell_type": "code",
      "metadata": {
        "colab": {
          "base_uri": "https://localhost:8080/"
        },
        "id": "awXLDhm5yLQ2",
        "outputId": "8f307601-db42-4ea0-e657-baa85908f0d4"
      },
      "source": [
        "print(base)"
      ],
      "execution_count": 3,
      "outputs": [
        {
          "output_type": "stream",
          "name": "stdout",
          "text": [
            "                dateCrawled  ...             lastSeen\n",
            "0       2016-03-24 11:52:17  ...  2016-04-07 03:16:57\n",
            "1       2016-03-24 10:58:45  ...  2016-04-07 01:46:50\n",
            "2       2016-03-14 12:52:21  ...  2016-04-05 12:47:46\n",
            "3       2016-03-17 16:54:04  ...  2016-03-17 17:40:17\n",
            "4       2016-03-31 17:25:20  ...  2016-04-06 10:17:21\n",
            "...                     ...  ...                  ...\n",
            "371523  2016-03-14 17:48:27  ...  2016-04-06 00:46:52\n",
            "371524  2016-03-05 19:56:21  ...  2016-03-11 18:17:12\n",
            "371525  2016-03-19 18:57:12  ...  2016-04-07 07:15:26\n",
            "371526  2016-03-20 19:41:08  ...  2016-03-24 12:45:21\n",
            "371527  2016-03-07 19:39:19  ...  2016-03-22 03:17:10\n",
            "\n",
            "[371528 rows x 20 columns]\n"
          ]
        }
      ]
    },
    {
      "cell_type": "code",
      "metadata": {
        "colab": {
          "base_uri": "https://localhost:8080/",
          "height": 297
        },
        "id": "a4hEpXAfyxZp",
        "outputId": "9cfe34e2-1142-43f1-ab4e-e30b0b039fb5"
      },
      "source": [
        "base.describe()"
      ],
      "execution_count": 4,
      "outputs": [
        {
          "output_type": "execute_result",
          "data": {
            "text/html": [
              "<div>\n",
              "<style scoped>\n",
              "    .dataframe tbody tr th:only-of-type {\n",
              "        vertical-align: middle;\n",
              "    }\n",
              "\n",
              "    .dataframe tbody tr th {\n",
              "        vertical-align: top;\n",
              "    }\n",
              "\n",
              "    .dataframe thead th {\n",
              "        text-align: right;\n",
              "    }\n",
              "</style>\n",
              "<table border=\"1\" class=\"dataframe\">\n",
              "  <thead>\n",
              "    <tr style=\"text-align: right;\">\n",
              "      <th></th>\n",
              "      <th>price</th>\n",
              "      <th>yearOfRegistration</th>\n",
              "      <th>powerPS</th>\n",
              "      <th>kilometer</th>\n",
              "      <th>monthOfRegistration</th>\n",
              "      <th>nrOfPictures</th>\n",
              "      <th>postalCode</th>\n",
              "    </tr>\n",
              "  </thead>\n",
              "  <tbody>\n",
              "    <tr>\n",
              "      <th>count</th>\n",
              "      <td>3.715280e+05</td>\n",
              "      <td>371528.000000</td>\n",
              "      <td>371528.000000</td>\n",
              "      <td>371528.000000</td>\n",
              "      <td>371528.000000</td>\n",
              "      <td>371528.0</td>\n",
              "      <td>371528.00000</td>\n",
              "    </tr>\n",
              "    <tr>\n",
              "      <th>mean</th>\n",
              "      <td>1.729514e+04</td>\n",
              "      <td>2004.577997</td>\n",
              "      <td>115.549477</td>\n",
              "      <td>125618.688228</td>\n",
              "      <td>5.734445</td>\n",
              "      <td>0.0</td>\n",
              "      <td>50820.66764</td>\n",
              "    </tr>\n",
              "    <tr>\n",
              "      <th>std</th>\n",
              "      <td>3.587954e+06</td>\n",
              "      <td>92.866598</td>\n",
              "      <td>192.139578</td>\n",
              "      <td>40112.337051</td>\n",
              "      <td>3.712412</td>\n",
              "      <td>0.0</td>\n",
              "      <td>25799.08247</td>\n",
              "    </tr>\n",
              "    <tr>\n",
              "      <th>min</th>\n",
              "      <td>0.000000e+00</td>\n",
              "      <td>1000.000000</td>\n",
              "      <td>0.000000</td>\n",
              "      <td>5000.000000</td>\n",
              "      <td>0.000000</td>\n",
              "      <td>0.0</td>\n",
              "      <td>1067.00000</td>\n",
              "    </tr>\n",
              "    <tr>\n",
              "      <th>25%</th>\n",
              "      <td>1.150000e+03</td>\n",
              "      <td>1999.000000</td>\n",
              "      <td>70.000000</td>\n",
              "      <td>125000.000000</td>\n",
              "      <td>3.000000</td>\n",
              "      <td>0.0</td>\n",
              "      <td>30459.00000</td>\n",
              "    </tr>\n",
              "    <tr>\n",
              "      <th>50%</th>\n",
              "      <td>2.950000e+03</td>\n",
              "      <td>2003.000000</td>\n",
              "      <td>105.000000</td>\n",
              "      <td>150000.000000</td>\n",
              "      <td>6.000000</td>\n",
              "      <td>0.0</td>\n",
              "      <td>49610.00000</td>\n",
              "    </tr>\n",
              "    <tr>\n",
              "      <th>75%</th>\n",
              "      <td>7.200000e+03</td>\n",
              "      <td>2008.000000</td>\n",
              "      <td>150.000000</td>\n",
              "      <td>150000.000000</td>\n",
              "      <td>9.000000</td>\n",
              "      <td>0.0</td>\n",
              "      <td>71546.00000</td>\n",
              "    </tr>\n",
              "    <tr>\n",
              "      <th>max</th>\n",
              "      <td>2.147484e+09</td>\n",
              "      <td>9999.000000</td>\n",
              "      <td>20000.000000</td>\n",
              "      <td>150000.000000</td>\n",
              "      <td>12.000000</td>\n",
              "      <td>0.0</td>\n",
              "      <td>99998.00000</td>\n",
              "    </tr>\n",
              "  </tbody>\n",
              "</table>\n",
              "</div>"
            ],
            "text/plain": [
              "              price  yearOfRegistration  ...  nrOfPictures    postalCode\n",
              "count  3.715280e+05       371528.000000  ...      371528.0  371528.00000\n",
              "mean   1.729514e+04         2004.577997  ...           0.0   50820.66764\n",
              "std    3.587954e+06           92.866598  ...           0.0   25799.08247\n",
              "min    0.000000e+00         1000.000000  ...           0.0    1067.00000\n",
              "25%    1.150000e+03         1999.000000  ...           0.0   30459.00000\n",
              "50%    2.950000e+03         2003.000000  ...           0.0   49610.00000\n",
              "75%    7.200000e+03         2008.000000  ...           0.0   71546.00000\n",
              "max    2.147484e+09         9999.000000  ...           0.0   99998.00000\n",
              "\n",
              "[8 rows x 7 columns]"
            ]
          },
          "metadata": {},
          "execution_count": 4
        }
      ]
    },
    {
      "cell_type": "code",
      "metadata": {
        "id": "exLmnSZx0yuQ"
      },
      "source": [
        "base = base.drop('dateCrawled', axis = 1)\n",
        "base = base.drop('dateCreated', axis = 1)\n",
        "base = base.drop('nrOfPictures', axis = 1)\n",
        "base = base.drop('postalCode', axis = 1)\n",
        "base = base.drop('lastSeen', axis = 1)"
      ],
      "execution_count": 5,
      "outputs": []
    },
    {
      "cell_type": "code",
      "metadata": {
        "colab": {
          "base_uri": "https://localhost:8080/"
        },
        "id": "jJ7ToHPp136O",
        "outputId": "bd3103ed-8692-4dc0-df77-7e5d37e70efd"
      },
      "source": [
        "print(base)"
      ],
      "execution_count": 6,
      "outputs": [
        {
          "output_type": "stream",
          "name": "stdout",
          "text": [
            "                                                name  ... notRepairedDamage\n",
            "0                                         Golf_3_1.6  ...               NaN\n",
            "1                               A5_Sportback_2.7_Tdi  ...                ja\n",
            "2                     Jeep_Grand_Cherokee_\"Overland\"  ...               NaN\n",
            "3                                 GOLF_4_1_4__3TÜRER  ...              nein\n",
            "4                     Skoda_Fabia_1.4_TDI_PD_Classic  ...              nein\n",
            "...                                              ...  ...               ...\n",
            "371523                    Suche_t4___vito_ab_6_sitze  ...               NaN\n",
            "371524         Smart_smart_leistungssteigerung_100ps  ...              nein\n",
            "371525            Volkswagen_Multivan_T4_TDI_7DC_UY2  ...              nein\n",
            "371526                        VW_Golf_Kombi_1_9l_TDI  ...               NaN\n",
            "371527  BMW_M135i_vollausgestattet_NP_52.720____Euro  ...              nein\n",
            "\n",
            "[371528 rows x 15 columns]\n"
          ]
        }
      ]
    },
    {
      "cell_type": "code",
      "metadata": {
        "colab": {
          "base_uri": "https://localhost:8080/"
        },
        "id": "0SghdPRO2CH4",
        "outputId": "9469c9f7-b717-4971-c4b8-697704926d79"
      },
      "source": [
        "base['name'].value_counts()"
      ],
      "execution_count": 7,
      "outputs": [
        {
          "output_type": "execute_result",
          "data": {
            "text/plain": [
              "Ford_Fiesta                                                      657\n",
              "BMW_318i                                                         627\n",
              "Opel_Corsa                                                       622\n",
              "Volkswagen_Golf_1.4                                              603\n",
              "BMW_316i                                                         523\n",
              "                                                                ... \n",
              "Volkswagen_Polo_CL_Coupé                                           1\n",
              "Volkswagen_Golf_1.9_TDI_DSG_Sportline                              1\n",
              "Audi_A5_RS5_Tdi                                                    1\n",
              "Mercedes_Benz_A_Klasse_A140                                        1\n",
              "722.626_Automatikgetriebe_Mercedes_Benz_W211_S211_W220_defekt      1\n",
              "Name: name, Length: 233531, dtype: int64"
            ]
          },
          "metadata": {},
          "execution_count": 7
        }
      ]
    },
    {
      "cell_type": "code",
      "metadata": {
        "id": "sspizi2g2od-"
      },
      "source": [
        "base = base.drop('name', axis = 1)"
      ],
      "execution_count": 8,
      "outputs": []
    },
    {
      "cell_type": "code",
      "metadata": {
        "colab": {
          "base_uri": "https://localhost:8080/"
        },
        "id": "mF0FlNfz3TuQ",
        "outputId": "6b739edd-d9b0-40f1-9b10-1256fd1688e2"
      },
      "source": [
        "base['seller'].value_counts()"
      ],
      "execution_count": 9,
      "outputs": [
        {
          "output_type": "execute_result",
          "data": {
            "text/plain": [
              "privat        371525\n",
              "gewerblich         3\n",
              "Name: seller, dtype: int64"
            ]
          },
          "metadata": {},
          "execution_count": 9
        }
      ]
    },
    {
      "cell_type": "code",
      "metadata": {
        "id": "jqFJZNDj3nH2"
      },
      "source": [
        "base = base.drop('seller', axis = 1)"
      ],
      "execution_count": 10,
      "outputs": []
    },
    {
      "cell_type": "code",
      "metadata": {
        "colab": {
          "base_uri": "https://localhost:8080/"
        },
        "id": "bjzmECRE3ukd",
        "outputId": "a603226e-a8ee-4ba9-ba80-c7661751cbf0"
      },
      "source": [
        "base['offerType'].value_counts()"
      ],
      "execution_count": 11,
      "outputs": [
        {
          "output_type": "execute_result",
          "data": {
            "text/plain": [
              "Angebot    371516\n",
              "Gesuch         12\n",
              "Name: offerType, dtype: int64"
            ]
          },
          "metadata": {},
          "execution_count": 11
        }
      ]
    },
    {
      "cell_type": "code",
      "metadata": {
        "id": "FqnoERkH4CV8"
      },
      "source": [
        "base = base.drop('offerType', axis = 1)"
      ],
      "execution_count": 12,
      "outputs": []
    },
    {
      "cell_type": "code",
      "metadata": {
        "id": "xzpzexJ24p1l"
      },
      "source": [
        "i1 = base.loc[base.price <= 10]"
      ],
      "execution_count": 13,
      "outputs": []
    },
    {
      "cell_type": "code",
      "metadata": {
        "colab": {
          "base_uri": "https://localhost:8080/"
        },
        "id": "XtXvcjw-40Lt",
        "outputId": "fe675b89-b15b-40ea-86f7-7c6ba5a7acda"
      },
      "source": [
        "print(i1)"
      ],
      "execution_count": 14,
      "outputs": [
        {
          "output_type": "stream",
          "name": "stdout",
          "text": [
            "        price   abtest vehicleType  ...  fuelType           brand  notRepairedDamage\n",
            "7           0     test   limousine  ...    benzin      volkswagen               nein\n",
            "40          0     test         NaN  ...    benzin            opel                NaN\n",
            "60          1  control         suv  ...       NaN  sonstige_autos                NaN\n",
            "91          1  control   limousine  ...    diesel   mercedes_benz               nein\n",
            "115         0     test         NaN  ...    benzin      volkswagen                NaN\n",
            "...       ...      ...         ...  ...       ...             ...                ...\n",
            "371356      0  control         NaN  ...       NaN            opel                 ja\n",
            "371392      0     test  kleinwagen  ...    benzin            ford                NaN\n",
            "371402      0  control  kleinwagen  ...    benzin          suzuki                NaN\n",
            "371431      0  control  kleinwagen  ...    benzin            seat                 ja\n",
            "371522      0  control         NaN  ...    benzin      mitsubishi                 ja\n",
            "\n",
            "[12118 rows x 12 columns]\n"
          ]
        }
      ]
    },
    {
      "cell_type": "code",
      "metadata": {
        "id": "Fb-iXcGU5BDl"
      },
      "source": [
        "base = base[base.price > 10]"
      ],
      "execution_count": 15,
      "outputs": []
    },
    {
      "cell_type": "code",
      "metadata": {
        "id": "hC8jz1wO5Rp-"
      },
      "source": [
        "i2 = base.loc[base.price >= 350000]"
      ],
      "execution_count": 19,
      "outputs": []
    },
    {
      "cell_type": "code",
      "metadata": {
        "colab": {
          "base_uri": "https://localhost:8080/"
        },
        "id": "3DYVCFtV5jKk",
        "outputId": "72e5a657-0fc3-491e-979f-c87fc1ebf4b3"
      },
      "source": [
        "print(i2)"
      ],
      "execution_count": 20,
      "outputs": [
        {
          "output_type": "stream",
          "name": "stdout",
          "text": [
            "           price   abtest  ...           brand  notRepairedDamage\n",
            "1846      579000  control  ...             bmw               nein\n",
            "10649     420000  control  ...         porsche               nein\n",
            "14663   11111111  control  ...      volkswagen                NaN\n",
            "16889    1000000  control  ...            ford                 ja\n",
            "20143    1250000     test  ...         porsche               nein\n",
            "...          ...      ...  ...             ...                ...\n",
            "364171   3890000     test  ...  sonstige_autos               nein\n",
            "365461    599000  control  ...             bmw               nein\n",
            "366653  99999999  control  ...             bmw                NaN\n",
            "366861   3895000     test  ...  sonstige_autos               nein\n",
            "367041   1600000     test  ...  sonstige_autos               nein\n",
            "\n",
            "[119 rows x 12 columns]\n"
          ]
        }
      ]
    },
    {
      "cell_type": "code",
      "metadata": {
        "id": "OuuCvK-851ol"
      },
      "source": [
        "base = base.loc[base.price < 350000]"
      ],
      "execution_count": 21,
      "outputs": []
    },
    {
      "cell_type": "code",
      "metadata": {
        "colab": {
          "base_uri": "https://localhost:8080/"
        },
        "id": "Tt3GpVhA6He2",
        "outputId": "14224b0d-920a-4955-e7b8-662561a99e65"
      },
      "source": [
        "print(base)"
      ],
      "execution_count": 23,
      "outputs": [
        {
          "output_type": "stream",
          "name": "stdout",
          "text": [
            "        price   abtest vehicleType  ...  fuelType           brand  notRepairedDamage\n",
            "0         480     test         NaN  ...    benzin      volkswagen                NaN\n",
            "1       18300     test       coupe  ...    diesel            audi                 ja\n",
            "2        9800     test         suv  ...    diesel            jeep                NaN\n",
            "3        1500     test  kleinwagen  ...    benzin      volkswagen               nein\n",
            "4        3600     test  kleinwagen  ...    diesel           skoda               nein\n",
            "...       ...      ...         ...  ...       ...             ...                ...\n",
            "371523   2200     test         NaN  ...       NaN  sonstige_autos                NaN\n",
            "371524   1199     test      cabrio  ...    benzin           smart               nein\n",
            "371525   9200     test         bus  ...    diesel      volkswagen               nein\n",
            "371526   3400     test       kombi  ...    diesel      volkswagen                NaN\n",
            "371527  28990  control   limousine  ...    benzin             bmw               nein\n",
            "\n",
            "[359291 rows x 12 columns]\n"
          ]
        }
      ]
    },
    {
      "cell_type": "code",
      "metadata": {
        "colab": {
          "base_uri": "https://localhost:8080/",
          "height": 439
        },
        "id": "j92Bsxdn6aRG",
        "outputId": "f2a72562-6766-4583-cc44-4b52d2059305"
      },
      "source": [
        "base.loc[pd.isnull(base['vehicleType'])]"
      ],
      "execution_count": 24,
      "outputs": [
        {
          "output_type": "execute_result",
          "data": {
            "text/html": [
              "<div>\n",
              "<style scoped>\n",
              "    .dataframe tbody tr th:only-of-type {\n",
              "        vertical-align: middle;\n",
              "    }\n",
              "\n",
              "    .dataframe tbody tr th {\n",
              "        vertical-align: top;\n",
              "    }\n",
              "\n",
              "    .dataframe thead th {\n",
              "        text-align: right;\n",
              "    }\n",
              "</style>\n",
              "<table border=\"1\" class=\"dataframe\">\n",
              "  <thead>\n",
              "    <tr style=\"text-align: right;\">\n",
              "      <th></th>\n",
              "      <th>price</th>\n",
              "      <th>abtest</th>\n",
              "      <th>vehicleType</th>\n",
              "      <th>yearOfRegistration</th>\n",
              "      <th>gearbox</th>\n",
              "      <th>powerPS</th>\n",
              "      <th>model</th>\n",
              "      <th>kilometer</th>\n",
              "      <th>monthOfRegistration</th>\n",
              "      <th>fuelType</th>\n",
              "      <th>brand</th>\n",
              "      <th>notRepairedDamage</th>\n",
              "    </tr>\n",
              "  </thead>\n",
              "  <tbody>\n",
              "    <tr>\n",
              "      <th>0</th>\n",
              "      <td>480</td>\n",
              "      <td>test</td>\n",
              "      <td>NaN</td>\n",
              "      <td>1993</td>\n",
              "      <td>manuell</td>\n",
              "      <td>0</td>\n",
              "      <td>golf</td>\n",
              "      <td>150000</td>\n",
              "      <td>0</td>\n",
              "      <td>benzin</td>\n",
              "      <td>volkswagen</td>\n",
              "      <td>NaN</td>\n",
              "    </tr>\n",
              "    <tr>\n",
              "      <th>16</th>\n",
              "      <td>300</td>\n",
              "      <td>test</td>\n",
              "      <td>NaN</td>\n",
              "      <td>2016</td>\n",
              "      <td>NaN</td>\n",
              "      <td>60</td>\n",
              "      <td>polo</td>\n",
              "      <td>150000</td>\n",
              "      <td>0</td>\n",
              "      <td>benzin</td>\n",
              "      <td>volkswagen</td>\n",
              "      <td>NaN</td>\n",
              "    </tr>\n",
              "    <tr>\n",
              "      <th>22</th>\n",
              "      <td>2900</td>\n",
              "      <td>test</td>\n",
              "      <td>NaN</td>\n",
              "      <td>2018</td>\n",
              "      <td>manuell</td>\n",
              "      <td>90</td>\n",
              "      <td>meriva</td>\n",
              "      <td>150000</td>\n",
              "      <td>5</td>\n",
              "      <td>benzin</td>\n",
              "      <td>opel</td>\n",
              "      <td>nein</td>\n",
              "    </tr>\n",
              "    <tr>\n",
              "      <th>26</th>\n",
              "      <td>5555</td>\n",
              "      <td>control</td>\n",
              "      <td>NaN</td>\n",
              "      <td>2017</td>\n",
              "      <td>manuell</td>\n",
              "      <td>125</td>\n",
              "      <td>c4</td>\n",
              "      <td>125000</td>\n",
              "      <td>4</td>\n",
              "      <td>NaN</td>\n",
              "      <td>citroen</td>\n",
              "      <td>nein</td>\n",
              "    </tr>\n",
              "    <tr>\n",
              "      <th>31</th>\n",
              "      <td>899</td>\n",
              "      <td>control</td>\n",
              "      <td>NaN</td>\n",
              "      <td>2016</td>\n",
              "      <td>manuell</td>\n",
              "      <td>60</td>\n",
              "      <td>clio</td>\n",
              "      <td>150000</td>\n",
              "      <td>6</td>\n",
              "      <td>benzin</td>\n",
              "      <td>renault</td>\n",
              "      <td>NaN</td>\n",
              "    </tr>\n",
              "    <tr>\n",
              "      <th>...</th>\n",
              "      <td>...</td>\n",
              "      <td>...</td>\n",
              "      <td>...</td>\n",
              "      <td>...</td>\n",
              "      <td>...</td>\n",
              "      <td>...</td>\n",
              "      <td>...</td>\n",
              "      <td>...</td>\n",
              "      <td>...</td>\n",
              "      <td>...</td>\n",
              "      <td>...</td>\n",
              "      <td>...</td>\n",
              "    </tr>\n",
              "    <tr>\n",
              "      <th>371495</th>\n",
              "      <td>180</td>\n",
              "      <td>control</td>\n",
              "      <td>NaN</td>\n",
              "      <td>1995</td>\n",
              "      <td>NaN</td>\n",
              "      <td>0</td>\n",
              "      <td>NaN</td>\n",
              "      <td>125000</td>\n",
              "      <td>3</td>\n",
              "      <td>benzin</td>\n",
              "      <td>opel</td>\n",
              "      <td>NaN</td>\n",
              "    </tr>\n",
              "    <tr>\n",
              "      <th>371504</th>\n",
              "      <td>2600</td>\n",
              "      <td>control</td>\n",
              "      <td>NaN</td>\n",
              "      <td>2005</td>\n",
              "      <td>automatik</td>\n",
              "      <td>0</td>\n",
              "      <td>c_klasse</td>\n",
              "      <td>150000</td>\n",
              "      <td>9</td>\n",
              "      <td>NaN</td>\n",
              "      <td>mercedes_benz</td>\n",
              "      <td>NaN</td>\n",
              "    </tr>\n",
              "    <tr>\n",
              "      <th>371509</th>\n",
              "      <td>1900</td>\n",
              "      <td>test</td>\n",
              "      <td>NaN</td>\n",
              "      <td>2000</td>\n",
              "      <td>manuell</td>\n",
              "      <td>110</td>\n",
              "      <td>NaN</td>\n",
              "      <td>150000</td>\n",
              "      <td>7</td>\n",
              "      <td>NaN</td>\n",
              "      <td>volkswagen</td>\n",
              "      <td>nein</td>\n",
              "    </tr>\n",
              "    <tr>\n",
              "      <th>371519</th>\n",
              "      <td>5250</td>\n",
              "      <td>control</td>\n",
              "      <td>NaN</td>\n",
              "      <td>2016</td>\n",
              "      <td>automatik</td>\n",
              "      <td>150</td>\n",
              "      <td>159</td>\n",
              "      <td>150000</td>\n",
              "      <td>12</td>\n",
              "      <td>NaN</td>\n",
              "      <td>alfa_romeo</td>\n",
              "      <td>nein</td>\n",
              "    </tr>\n",
              "    <tr>\n",
              "      <th>371523</th>\n",
              "      <td>2200</td>\n",
              "      <td>test</td>\n",
              "      <td>NaN</td>\n",
              "      <td>2005</td>\n",
              "      <td>NaN</td>\n",
              "      <td>0</td>\n",
              "      <td>NaN</td>\n",
              "      <td>20000</td>\n",
              "      <td>1</td>\n",
              "      <td>NaN</td>\n",
              "      <td>sonstige_autos</td>\n",
              "      <td>NaN</td>\n",
              "    </tr>\n",
              "  </tbody>\n",
              "</table>\n",
              "<p>33546 rows × 12 columns</p>\n",
              "</div>"
            ],
            "text/plain": [
              "        price   abtest vehicleType  ...  fuelType           brand  notRepairedDamage\n",
              "0         480     test         NaN  ...    benzin      volkswagen                NaN\n",
              "16        300     test         NaN  ...    benzin      volkswagen                NaN\n",
              "22       2900     test         NaN  ...    benzin            opel               nein\n",
              "26       5555  control         NaN  ...       NaN         citroen               nein\n",
              "31        899  control         NaN  ...    benzin         renault                NaN\n",
              "...       ...      ...         ...  ...       ...             ...                ...\n",
              "371495    180  control         NaN  ...    benzin            opel                NaN\n",
              "371504   2600  control         NaN  ...       NaN   mercedes_benz                NaN\n",
              "371509   1900     test         NaN  ...       NaN      volkswagen               nein\n",
              "371519   5250  control         NaN  ...       NaN      alfa_romeo               nein\n",
              "371523   2200     test         NaN  ...       NaN  sonstige_autos                NaN\n",
              "\n",
              "[33546 rows x 12 columns]"
            ]
          },
          "metadata": {},
          "execution_count": 24
        }
      ]
    },
    {
      "cell_type": "code",
      "metadata": {
        "colab": {
          "base_uri": "https://localhost:8080/"
        },
        "id": "urARzxn27K1g",
        "outputId": "d8e0b97e-78a5-4cbd-8115-fb690440cda5"
      },
      "source": [
        "base['vehicleType'].value_counts()"
      ],
      "execution_count": 25,
      "outputs": [
        {
          "output_type": "execute_result",
          "data": {
            "text/plain": [
              "limousine     93614\n",
              "kleinwagen    78014\n",
              "kombi         65921\n",
              "bus           29699\n",
              "cabrio        22509\n",
              "coupe         18386\n",
              "suv           14477\n",
              "andere         3125\n",
              "Name: vehicleType, dtype: int64"
            ]
          },
          "metadata": {},
          "execution_count": 25
        }
      ]
    },
    {
      "cell_type": "code",
      "metadata": {
        "colab": {
          "base_uri": "https://localhost:8080/",
          "height": 439
        },
        "id": "ha_7F6OH754F",
        "outputId": "9aad193b-5c2d-4955-c302-f0cdda9cc272"
      },
      "source": [
        "base.loc[pd.isnull(base['gearbox'])]"
      ],
      "execution_count": 28,
      "outputs": [
        {
          "output_type": "execute_result",
          "data": {
            "text/html": [
              "<div>\n",
              "<style scoped>\n",
              "    .dataframe tbody tr th:only-of-type {\n",
              "        vertical-align: middle;\n",
              "    }\n",
              "\n",
              "    .dataframe tbody tr th {\n",
              "        vertical-align: top;\n",
              "    }\n",
              "\n",
              "    .dataframe thead th {\n",
              "        text-align: right;\n",
              "    }\n",
              "</style>\n",
              "<table border=\"1\" class=\"dataframe\">\n",
              "  <thead>\n",
              "    <tr style=\"text-align: right;\">\n",
              "      <th></th>\n",
              "      <th>price</th>\n",
              "      <th>abtest</th>\n",
              "      <th>vehicleType</th>\n",
              "      <th>yearOfRegistration</th>\n",
              "      <th>gearbox</th>\n",
              "      <th>powerPS</th>\n",
              "      <th>model</th>\n",
              "      <th>kilometer</th>\n",
              "      <th>monthOfRegistration</th>\n",
              "      <th>fuelType</th>\n",
              "      <th>brand</th>\n",
              "      <th>notRepairedDamage</th>\n",
              "    </tr>\n",
              "  </thead>\n",
              "  <tbody>\n",
              "    <tr>\n",
              "      <th>15</th>\n",
              "      <td>450</td>\n",
              "      <td>test</td>\n",
              "      <td>kleinwagen</td>\n",
              "      <td>1910</td>\n",
              "      <td>NaN</td>\n",
              "      <td>0</td>\n",
              "      <td>ka</td>\n",
              "      <td>5000</td>\n",
              "      <td>0</td>\n",
              "      <td>benzin</td>\n",
              "      <td>ford</td>\n",
              "      <td>NaN</td>\n",
              "    </tr>\n",
              "    <tr>\n",
              "      <th>16</th>\n",
              "      <td>300</td>\n",
              "      <td>test</td>\n",
              "      <td>NaN</td>\n",
              "      <td>2016</td>\n",
              "      <td>NaN</td>\n",
              "      <td>60</td>\n",
              "      <td>polo</td>\n",
              "      <td>150000</td>\n",
              "      <td>0</td>\n",
              "      <td>benzin</td>\n",
              "      <td>volkswagen</td>\n",
              "      <td>NaN</td>\n",
              "    </tr>\n",
              "    <tr>\n",
              "      <th>32</th>\n",
              "      <td>245</td>\n",
              "      <td>test</td>\n",
              "      <td>limousine</td>\n",
              "      <td>1994</td>\n",
              "      <td>NaN</td>\n",
              "      <td>0</td>\n",
              "      <td>golf</td>\n",
              "      <td>150000</td>\n",
              "      <td>2</td>\n",
              "      <td>benzin</td>\n",
              "      <td>volkswagen</td>\n",
              "      <td>nein</td>\n",
              "    </tr>\n",
              "    <tr>\n",
              "      <th>37</th>\n",
              "      <td>1500</td>\n",
              "      <td>test</td>\n",
              "      <td>NaN</td>\n",
              "      <td>2016</td>\n",
              "      <td>NaN</td>\n",
              "      <td>0</td>\n",
              "      <td>kangoo</td>\n",
              "      <td>150000</td>\n",
              "      <td>1</td>\n",
              "      <td>diesel</td>\n",
              "      <td>renault</td>\n",
              "      <td>nein</td>\n",
              "    </tr>\n",
              "    <tr>\n",
              "      <th>70</th>\n",
              "      <td>1200</td>\n",
              "      <td>test</td>\n",
              "      <td>coupe</td>\n",
              "      <td>2001</td>\n",
              "      <td>NaN</td>\n",
              "      <td>0</td>\n",
              "      <td>astra</td>\n",
              "      <td>150000</td>\n",
              "      <td>0</td>\n",
              "      <td>NaN</td>\n",
              "      <td>opel</td>\n",
              "      <td>NaN</td>\n",
              "    </tr>\n",
              "    <tr>\n",
              "      <th>...</th>\n",
              "      <td>...</td>\n",
              "      <td>...</td>\n",
              "      <td>...</td>\n",
              "      <td>...</td>\n",
              "      <td>...</td>\n",
              "      <td>...</td>\n",
              "      <td>...</td>\n",
              "      <td>...</td>\n",
              "      <td>...</td>\n",
              "      <td>...</td>\n",
              "      <td>...</td>\n",
              "      <td>...</td>\n",
              "    </tr>\n",
              "    <tr>\n",
              "      <th>371443</th>\n",
              "      <td>3300</td>\n",
              "      <td>control</td>\n",
              "      <td>kombi</td>\n",
              "      <td>2006</td>\n",
              "      <td>NaN</td>\n",
              "      <td>0</td>\n",
              "      <td>touran</td>\n",
              "      <td>150000</td>\n",
              "      <td>7</td>\n",
              "      <td>diesel</td>\n",
              "      <td>volkswagen</td>\n",
              "      <td>NaN</td>\n",
              "    </tr>\n",
              "    <tr>\n",
              "      <th>371460</th>\n",
              "      <td>3500</td>\n",
              "      <td>control</td>\n",
              "      <td>NaN</td>\n",
              "      <td>1995</td>\n",
              "      <td>NaN</td>\n",
              "      <td>0</td>\n",
              "      <td>polo</td>\n",
              "      <td>150000</td>\n",
              "      <td>0</td>\n",
              "      <td>NaN</td>\n",
              "      <td>volkswagen</td>\n",
              "      <td>NaN</td>\n",
              "    </tr>\n",
              "    <tr>\n",
              "      <th>371486</th>\n",
              "      <td>350</td>\n",
              "      <td>control</td>\n",
              "      <td>kleinwagen</td>\n",
              "      <td>1996</td>\n",
              "      <td>NaN</td>\n",
              "      <td>65</td>\n",
              "      <td>punto</td>\n",
              "      <td>150000</td>\n",
              "      <td>0</td>\n",
              "      <td>NaN</td>\n",
              "      <td>fiat</td>\n",
              "      <td>NaN</td>\n",
              "    </tr>\n",
              "    <tr>\n",
              "      <th>371495</th>\n",
              "      <td>180</td>\n",
              "      <td>control</td>\n",
              "      <td>NaN</td>\n",
              "      <td>1995</td>\n",
              "      <td>NaN</td>\n",
              "      <td>0</td>\n",
              "      <td>NaN</td>\n",
              "      <td>125000</td>\n",
              "      <td>3</td>\n",
              "      <td>benzin</td>\n",
              "      <td>opel</td>\n",
              "      <td>NaN</td>\n",
              "    </tr>\n",
              "    <tr>\n",
              "      <th>371523</th>\n",
              "      <td>2200</td>\n",
              "      <td>test</td>\n",
              "      <td>NaN</td>\n",
              "      <td>2005</td>\n",
              "      <td>NaN</td>\n",
              "      <td>0</td>\n",
              "      <td>NaN</td>\n",
              "      <td>20000</td>\n",
              "      <td>1</td>\n",
              "      <td>NaN</td>\n",
              "      <td>sonstige_autos</td>\n",
              "      <td>NaN</td>\n",
              "    </tr>\n",
              "  </tbody>\n",
              "</table>\n",
              "<p>17236 rows × 12 columns</p>\n",
              "</div>"
            ],
            "text/plain": [
              "        price   abtest vehicleType  ...  fuelType           brand  notRepairedDamage\n",
              "15        450     test  kleinwagen  ...    benzin            ford                NaN\n",
              "16        300     test         NaN  ...    benzin      volkswagen                NaN\n",
              "32        245     test   limousine  ...    benzin      volkswagen               nein\n",
              "37       1500     test         NaN  ...    diesel         renault               nein\n",
              "70       1200     test       coupe  ...       NaN            opel                NaN\n",
              "...       ...      ...         ...  ...       ...             ...                ...\n",
              "371443   3300  control       kombi  ...    diesel      volkswagen                NaN\n",
              "371460   3500  control         NaN  ...       NaN      volkswagen                NaN\n",
              "371486    350  control  kleinwagen  ...       NaN            fiat                NaN\n",
              "371495    180  control         NaN  ...    benzin            opel                NaN\n",
              "371523   2200     test         NaN  ...       NaN  sonstige_autos                NaN\n",
              "\n",
              "[17236 rows x 12 columns]"
            ]
          },
          "metadata": {},
          "execution_count": 28
        }
      ]
    },
    {
      "cell_type": "code",
      "metadata": {
        "colab": {
          "base_uri": "https://localhost:8080/"
        },
        "id": "sYuvvU-57hfG",
        "outputId": "7e709362-0bbe-4517-bbcf-0dee460f5169"
      },
      "source": [
        "base['gearbox'].value_counts()"
      ],
      "execution_count": 29,
      "outputs": [
        {
          "output_type": "execute_result",
          "data": {
            "text/plain": [
              "manuell      266547\n",
              "automatik     75508\n",
              "Name: gearbox, dtype: int64"
            ]
          },
          "metadata": {},
          "execution_count": 29
        }
      ]
    },
    {
      "cell_type": "code",
      "metadata": {
        "colab": {
          "base_uri": "https://localhost:8080/",
          "height": 439
        },
        "id": "aO9JFTBc7sLG",
        "outputId": "a544be0a-b020-49bd-92e1-9f67693ec6fc"
      },
      "source": [
        "base.loc[pd.isnull(base['model'])]"
      ],
      "execution_count": 30,
      "outputs": [
        {
          "output_type": "execute_result",
          "data": {
            "text/html": [
              "<div>\n",
              "<style scoped>\n",
              "    .dataframe tbody tr th:only-of-type {\n",
              "        vertical-align: middle;\n",
              "    }\n",
              "\n",
              "    .dataframe tbody tr th {\n",
              "        vertical-align: top;\n",
              "    }\n",
              "\n",
              "    .dataframe thead th {\n",
              "        text-align: right;\n",
              "    }\n",
              "</style>\n",
              "<table border=\"1\" class=\"dataframe\">\n",
              "  <thead>\n",
              "    <tr style=\"text-align: right;\">\n",
              "      <th></th>\n",
              "      <th>price</th>\n",
              "      <th>abtest</th>\n",
              "      <th>vehicleType</th>\n",
              "      <th>yearOfRegistration</th>\n",
              "      <th>gearbox</th>\n",
              "      <th>powerPS</th>\n",
              "      <th>model</th>\n",
              "      <th>kilometer</th>\n",
              "      <th>monthOfRegistration</th>\n",
              "      <th>fuelType</th>\n",
              "      <th>brand</th>\n",
              "      <th>notRepairedDamage</th>\n",
              "    </tr>\n",
              "  </thead>\n",
              "  <tbody>\n",
              "    <tr>\n",
              "      <th>1</th>\n",
              "      <td>18300</td>\n",
              "      <td>test</td>\n",
              "      <td>coupe</td>\n",
              "      <td>2011</td>\n",
              "      <td>manuell</td>\n",
              "      <td>190</td>\n",
              "      <td>NaN</td>\n",
              "      <td>125000</td>\n",
              "      <td>5</td>\n",
              "      <td>diesel</td>\n",
              "      <td>audi</td>\n",
              "      <td>ja</td>\n",
              "    </tr>\n",
              "    <tr>\n",
              "      <th>83</th>\n",
              "      <td>350</td>\n",
              "      <td>control</td>\n",
              "      <td>kleinwagen</td>\n",
              "      <td>1997</td>\n",
              "      <td>manuell</td>\n",
              "      <td>54</td>\n",
              "      <td>NaN</td>\n",
              "      <td>150000</td>\n",
              "      <td>3</td>\n",
              "      <td>NaN</td>\n",
              "      <td>fiat</td>\n",
              "      <td>ja</td>\n",
              "    </tr>\n",
              "    <tr>\n",
              "      <th>139</th>\n",
              "      <td>1450</td>\n",
              "      <td>control</td>\n",
              "      <td>limousine</td>\n",
              "      <td>1992</td>\n",
              "      <td>manuell</td>\n",
              "      <td>136</td>\n",
              "      <td>NaN</td>\n",
              "      <td>150000</td>\n",
              "      <td>0</td>\n",
              "      <td>NaN</td>\n",
              "      <td>audi</td>\n",
              "      <td>nein</td>\n",
              "    </tr>\n",
              "    <tr>\n",
              "      <th>156</th>\n",
              "      <td>6799</td>\n",
              "      <td>control</td>\n",
              "      <td>kleinwagen</td>\n",
              "      <td>2009</td>\n",
              "      <td>NaN</td>\n",
              "      <td>60</td>\n",
              "      <td>NaN</td>\n",
              "      <td>20000</td>\n",
              "      <td>5</td>\n",
              "      <td>benzin</td>\n",
              "      <td>volkswagen</td>\n",
              "      <td>nein</td>\n",
              "    </tr>\n",
              "    <tr>\n",
              "      <th>165</th>\n",
              "      <td>500</td>\n",
              "      <td>control</td>\n",
              "      <td>kleinwagen</td>\n",
              "      <td>1999</td>\n",
              "      <td>manuell</td>\n",
              "      <td>0</td>\n",
              "      <td>NaN</td>\n",
              "      <td>150000</td>\n",
              "      <td>0</td>\n",
              "      <td>benzin</td>\n",
              "      <td>renault</td>\n",
              "      <td>nein</td>\n",
              "    </tr>\n",
              "    <tr>\n",
              "      <th>...</th>\n",
              "      <td>...</td>\n",
              "      <td>...</td>\n",
              "      <td>...</td>\n",
              "      <td>...</td>\n",
              "      <td>...</td>\n",
              "      <td>...</td>\n",
              "      <td>...</td>\n",
              "      <td>...</td>\n",
              "      <td>...</td>\n",
              "      <td>...</td>\n",
              "      <td>...</td>\n",
              "      <td>...</td>\n",
              "    </tr>\n",
              "    <tr>\n",
              "      <th>371399</th>\n",
              "      <td>560</td>\n",
              "      <td>control</td>\n",
              "      <td>kleinwagen</td>\n",
              "      <td>2001</td>\n",
              "      <td>automatik</td>\n",
              "      <td>170</td>\n",
              "      <td>NaN</td>\n",
              "      <td>90000</td>\n",
              "      <td>0</td>\n",
              "      <td>benzin</td>\n",
              "      <td>fiat</td>\n",
              "      <td>ja</td>\n",
              "    </tr>\n",
              "    <tr>\n",
              "      <th>371476</th>\n",
              "      <td>9400</td>\n",
              "      <td>control</td>\n",
              "      <td>kombi</td>\n",
              "      <td>2007</td>\n",
              "      <td>manuell</td>\n",
              "      <td>200</td>\n",
              "      <td>NaN</td>\n",
              "      <td>150000</td>\n",
              "      <td>4</td>\n",
              "      <td>diesel</td>\n",
              "      <td>sonstige_autos</td>\n",
              "      <td>ja</td>\n",
              "    </tr>\n",
              "    <tr>\n",
              "      <th>371495</th>\n",
              "      <td>180</td>\n",
              "      <td>control</td>\n",
              "      <td>NaN</td>\n",
              "      <td>1995</td>\n",
              "      <td>NaN</td>\n",
              "      <td>0</td>\n",
              "      <td>NaN</td>\n",
              "      <td>125000</td>\n",
              "      <td>3</td>\n",
              "      <td>benzin</td>\n",
              "      <td>opel</td>\n",
              "      <td>NaN</td>\n",
              "    </tr>\n",
              "    <tr>\n",
              "      <th>371509</th>\n",
              "      <td>1900</td>\n",
              "      <td>test</td>\n",
              "      <td>NaN</td>\n",
              "      <td>2000</td>\n",
              "      <td>manuell</td>\n",
              "      <td>110</td>\n",
              "      <td>NaN</td>\n",
              "      <td>150000</td>\n",
              "      <td>7</td>\n",
              "      <td>NaN</td>\n",
              "      <td>volkswagen</td>\n",
              "      <td>nein</td>\n",
              "    </tr>\n",
              "    <tr>\n",
              "      <th>371523</th>\n",
              "      <td>2200</td>\n",
              "      <td>test</td>\n",
              "      <td>NaN</td>\n",
              "      <td>2005</td>\n",
              "      <td>NaN</td>\n",
              "      <td>0</td>\n",
              "      <td>NaN</td>\n",
              "      <td>20000</td>\n",
              "      <td>1</td>\n",
              "      <td>NaN</td>\n",
              "      <td>sonstige_autos</td>\n",
              "      <td>NaN</td>\n",
              "    </tr>\n",
              "  </tbody>\n",
              "</table>\n",
              "<p>17967 rows × 12 columns</p>\n",
              "</div>"
            ],
            "text/plain": [
              "        price   abtest vehicleType  ...  fuelType           brand  notRepairedDamage\n",
              "1       18300     test       coupe  ...    diesel            audi                 ja\n",
              "83        350  control  kleinwagen  ...       NaN            fiat                 ja\n",
              "139      1450  control   limousine  ...       NaN            audi               nein\n",
              "156      6799  control  kleinwagen  ...    benzin      volkswagen               nein\n",
              "165       500  control  kleinwagen  ...    benzin         renault               nein\n",
              "...       ...      ...         ...  ...       ...             ...                ...\n",
              "371399    560  control  kleinwagen  ...    benzin            fiat                 ja\n",
              "371476   9400  control       kombi  ...    diesel  sonstige_autos                 ja\n",
              "371495    180  control         NaN  ...    benzin            opel                NaN\n",
              "371509   1900     test         NaN  ...       NaN      volkswagen               nein\n",
              "371523   2200     test         NaN  ...       NaN  sonstige_autos                NaN\n",
              "\n",
              "[17967 rows x 12 columns]"
            ]
          },
          "metadata": {},
          "execution_count": 30
        }
      ]
    },
    {
      "cell_type": "code",
      "metadata": {
        "colab": {
          "base_uri": "https://localhost:8080/"
        },
        "id": "KpYvmPr08Dlt",
        "outputId": "ee299619-4e32-4f1f-fbfc-b17e781059bb"
      },
      "source": [
        "base['model'].value_counts()"
      ],
      "execution_count": 31,
      "outputs": [
        {
          "output_type": "execute_result",
          "data": {
            "text/plain": [
              "golf               28989\n",
              "andere             25560\n",
              "3er                19905\n",
              "polo               12604\n",
              "corsa              12149\n",
              "                   ...  \n",
              "serie_2                8\n",
              "rangerover             6\n",
              "serie_3                3\n",
              "serie_1                1\n",
              "discovery_sport        1\n",
              "Name: model, Length: 251, dtype: int64"
            ]
          },
          "metadata": {},
          "execution_count": 31
        }
      ]
    },
    {
      "cell_type": "code",
      "metadata": {
        "colab": {
          "base_uri": "https://localhost:8080/",
          "height": 439
        },
        "id": "w9eJQisv8LUM",
        "outputId": "af0e8c46-b11f-40c6-9252-7b284a54d5d0"
      },
      "source": [
        "base.loc[pd.isnull(base['fuelType'])]"
      ],
      "execution_count": 33,
      "outputs": [
        {
          "output_type": "execute_result",
          "data": {
            "text/html": [
              "<div>\n",
              "<style scoped>\n",
              "    .dataframe tbody tr th:only-of-type {\n",
              "        vertical-align: middle;\n",
              "    }\n",
              "\n",
              "    .dataframe tbody tr th {\n",
              "        vertical-align: top;\n",
              "    }\n",
              "\n",
              "    .dataframe thead th {\n",
              "        text-align: right;\n",
              "    }\n",
              "</style>\n",
              "<table border=\"1\" class=\"dataframe\">\n",
              "  <thead>\n",
              "    <tr style=\"text-align: right;\">\n",
              "      <th></th>\n",
              "      <th>price</th>\n",
              "      <th>abtest</th>\n",
              "      <th>vehicleType</th>\n",
              "      <th>yearOfRegistration</th>\n",
              "      <th>gearbox</th>\n",
              "      <th>powerPS</th>\n",
              "      <th>model</th>\n",
              "      <th>kilometer</th>\n",
              "      <th>monthOfRegistration</th>\n",
              "      <th>fuelType</th>\n",
              "      <th>brand</th>\n",
              "      <th>notRepairedDamage</th>\n",
              "    </tr>\n",
              "  </thead>\n",
              "  <tbody>\n",
              "    <tr>\n",
              "      <th>9</th>\n",
              "      <td>999</td>\n",
              "      <td>test</td>\n",
              "      <td>kleinwagen</td>\n",
              "      <td>1998</td>\n",
              "      <td>manuell</td>\n",
              "      <td>101</td>\n",
              "      <td>golf</td>\n",
              "      <td>150000</td>\n",
              "      <td>0</td>\n",
              "      <td>NaN</td>\n",
              "      <td>volkswagen</td>\n",
              "      <td>NaN</td>\n",
              "    </tr>\n",
              "    <tr>\n",
              "      <th>13</th>\n",
              "      <td>2500</td>\n",
              "      <td>control</td>\n",
              "      <td>kombi</td>\n",
              "      <td>2004</td>\n",
              "      <td>manuell</td>\n",
              "      <td>131</td>\n",
              "      <td>passat</td>\n",
              "      <td>150000</td>\n",
              "      <td>2</td>\n",
              "      <td>NaN</td>\n",
              "      <td>volkswagen</td>\n",
              "      <td>nein</td>\n",
              "    </tr>\n",
              "    <tr>\n",
              "      <th>26</th>\n",
              "      <td>5555</td>\n",
              "      <td>control</td>\n",
              "      <td>NaN</td>\n",
              "      <td>2017</td>\n",
              "      <td>manuell</td>\n",
              "      <td>125</td>\n",
              "      <td>c4</td>\n",
              "      <td>125000</td>\n",
              "      <td>4</td>\n",
              "      <td>NaN</td>\n",
              "      <td>citroen</td>\n",
              "      <td>nein</td>\n",
              "    </tr>\n",
              "    <tr>\n",
              "      <th>36</th>\n",
              "      <td>1600</td>\n",
              "      <td>control</td>\n",
              "      <td>andere</td>\n",
              "      <td>1991</td>\n",
              "      <td>manuell</td>\n",
              "      <td>75</td>\n",
              "      <td>kadett</td>\n",
              "      <td>70000</td>\n",
              "      <td>0</td>\n",
              "      <td>NaN</td>\n",
              "      <td>opel</td>\n",
              "      <td>NaN</td>\n",
              "    </tr>\n",
              "    <tr>\n",
              "      <th>41</th>\n",
              "      <td>7500</td>\n",
              "      <td>control</td>\n",
              "      <td>limousine</td>\n",
              "      <td>2002</td>\n",
              "      <td>automatik</td>\n",
              "      <td>306</td>\n",
              "      <td>e_klasse</td>\n",
              "      <td>150000</td>\n",
              "      <td>4</td>\n",
              "      <td>NaN</td>\n",
              "      <td>mercedes_benz</td>\n",
              "      <td>NaN</td>\n",
              "    </tr>\n",
              "    <tr>\n",
              "      <th>...</th>\n",
              "      <td>...</td>\n",
              "      <td>...</td>\n",
              "      <td>...</td>\n",
              "      <td>...</td>\n",
              "      <td>...</td>\n",
              "      <td>...</td>\n",
              "      <td>...</td>\n",
              "      <td>...</td>\n",
              "      <td>...</td>\n",
              "      <td>...</td>\n",
              "      <td>...</td>\n",
              "      <td>...</td>\n",
              "    </tr>\n",
              "    <tr>\n",
              "      <th>371496</th>\n",
              "      <td>3850</td>\n",
              "      <td>test</td>\n",
              "      <td>cabrio</td>\n",
              "      <td>2006</td>\n",
              "      <td>manuell</td>\n",
              "      <td>108</td>\n",
              "      <td>2_reihe</td>\n",
              "      <td>125000</td>\n",
              "      <td>2</td>\n",
              "      <td>NaN</td>\n",
              "      <td>peugeot</td>\n",
              "      <td>nein</td>\n",
              "    </tr>\n",
              "    <tr>\n",
              "      <th>371504</th>\n",
              "      <td>2600</td>\n",
              "      <td>control</td>\n",
              "      <td>NaN</td>\n",
              "      <td>2005</td>\n",
              "      <td>automatik</td>\n",
              "      <td>0</td>\n",
              "      <td>c_klasse</td>\n",
              "      <td>150000</td>\n",
              "      <td>9</td>\n",
              "      <td>NaN</td>\n",
              "      <td>mercedes_benz</td>\n",
              "      <td>NaN</td>\n",
              "    </tr>\n",
              "    <tr>\n",
              "      <th>371509</th>\n",
              "      <td>1900</td>\n",
              "      <td>test</td>\n",
              "      <td>NaN</td>\n",
              "      <td>2000</td>\n",
              "      <td>manuell</td>\n",
              "      <td>110</td>\n",
              "      <td>NaN</td>\n",
              "      <td>150000</td>\n",
              "      <td>7</td>\n",
              "      <td>NaN</td>\n",
              "      <td>volkswagen</td>\n",
              "      <td>nein</td>\n",
              "    </tr>\n",
              "    <tr>\n",
              "      <th>371519</th>\n",
              "      <td>5250</td>\n",
              "      <td>control</td>\n",
              "      <td>NaN</td>\n",
              "      <td>2016</td>\n",
              "      <td>automatik</td>\n",
              "      <td>150</td>\n",
              "      <td>159</td>\n",
              "      <td>150000</td>\n",
              "      <td>12</td>\n",
              "      <td>NaN</td>\n",
              "      <td>alfa_romeo</td>\n",
              "      <td>nein</td>\n",
              "    </tr>\n",
              "    <tr>\n",
              "      <th>371523</th>\n",
              "      <td>2200</td>\n",
              "      <td>test</td>\n",
              "      <td>NaN</td>\n",
              "      <td>2005</td>\n",
              "      <td>NaN</td>\n",
              "      <td>0</td>\n",
              "      <td>NaN</td>\n",
              "      <td>20000</td>\n",
              "      <td>1</td>\n",
              "      <td>NaN</td>\n",
              "      <td>sonstige_autos</td>\n",
              "      <td>NaN</td>\n",
              "    </tr>\n",
              "  </tbody>\n",
              "</table>\n",
              "<p>29391 rows × 12 columns</p>\n",
              "</div>"
            ],
            "text/plain": [
              "        price   abtest vehicleType  ...  fuelType           brand  notRepairedDamage\n",
              "9         999     test  kleinwagen  ...       NaN      volkswagen                NaN\n",
              "13       2500  control       kombi  ...       NaN      volkswagen               nein\n",
              "26       5555  control         NaN  ...       NaN         citroen               nein\n",
              "36       1600  control      andere  ...       NaN            opel                NaN\n",
              "41       7500  control   limousine  ...       NaN   mercedes_benz                NaN\n",
              "...       ...      ...         ...  ...       ...             ...                ...\n",
              "371496   3850     test      cabrio  ...       NaN         peugeot               nein\n",
              "371504   2600  control         NaN  ...       NaN   mercedes_benz                NaN\n",
              "371509   1900     test         NaN  ...       NaN      volkswagen               nein\n",
              "371519   5250  control         NaN  ...       NaN      alfa_romeo               nein\n",
              "371523   2200     test         NaN  ...       NaN  sonstige_autos                NaN\n",
              "\n",
              "[29391 rows x 12 columns]"
            ]
          },
          "metadata": {},
          "execution_count": 33
        }
      ]
    },
    {
      "cell_type": "code",
      "metadata": {
        "colab": {
          "base_uri": "https://localhost:8080/"
        },
        "id": "4au_J4Ih8YGf",
        "outputId": "b90cfeee-8fb6-420d-e261-f1e14a2713dd"
      },
      "source": [
        "base['fuelType'].value_counts()"
      ],
      "execution_count": 34,
      "outputs": [
        {
          "output_type": "execute_result",
          "data": {
            "text/plain": [
              "benzin     217582\n",
              "diesel     106002\n",
              "lpg          5222\n",
              "cng           557\n",
              "hybrid        271\n",
              "andere        165\n",
              "elektro       101\n",
              "Name: fuelType, dtype: int64"
            ]
          },
          "metadata": {},
          "execution_count": 34
        }
      ]
    },
    {
      "cell_type": "code",
      "metadata": {
        "colab": {
          "base_uri": "https://localhost:8080/",
          "height": 439
        },
        "id": "-2L5fxIf8ek9",
        "outputId": "3a3ded0e-c241-4559-d5ce-eeb1a4e4b52f"
      },
      "source": [
        "base.loc[pd.isnull(base['notRepairedDamage'])]"
      ],
      "execution_count": 35,
      "outputs": [
        {
          "output_type": "execute_result",
          "data": {
            "text/html": [
              "<div>\n",
              "<style scoped>\n",
              "    .dataframe tbody tr th:only-of-type {\n",
              "        vertical-align: middle;\n",
              "    }\n",
              "\n",
              "    .dataframe tbody tr th {\n",
              "        vertical-align: top;\n",
              "    }\n",
              "\n",
              "    .dataframe thead th {\n",
              "        text-align: right;\n",
              "    }\n",
              "</style>\n",
              "<table border=\"1\" class=\"dataframe\">\n",
              "  <thead>\n",
              "    <tr style=\"text-align: right;\">\n",
              "      <th></th>\n",
              "      <th>price</th>\n",
              "      <th>abtest</th>\n",
              "      <th>vehicleType</th>\n",
              "      <th>yearOfRegistration</th>\n",
              "      <th>gearbox</th>\n",
              "      <th>powerPS</th>\n",
              "      <th>model</th>\n",
              "      <th>kilometer</th>\n",
              "      <th>monthOfRegistration</th>\n",
              "      <th>fuelType</th>\n",
              "      <th>brand</th>\n",
              "      <th>notRepairedDamage</th>\n",
              "    </tr>\n",
              "  </thead>\n",
              "  <tbody>\n",
              "    <tr>\n",
              "      <th>0</th>\n",
              "      <td>480</td>\n",
              "      <td>test</td>\n",
              "      <td>NaN</td>\n",
              "      <td>1993</td>\n",
              "      <td>manuell</td>\n",
              "      <td>0</td>\n",
              "      <td>golf</td>\n",
              "      <td>150000</td>\n",
              "      <td>0</td>\n",
              "      <td>benzin</td>\n",
              "      <td>volkswagen</td>\n",
              "      <td>NaN</td>\n",
              "    </tr>\n",
              "    <tr>\n",
              "      <th>2</th>\n",
              "      <td>9800</td>\n",
              "      <td>test</td>\n",
              "      <td>suv</td>\n",
              "      <td>2004</td>\n",
              "      <td>automatik</td>\n",
              "      <td>163</td>\n",
              "      <td>grand</td>\n",
              "      <td>125000</td>\n",
              "      <td>8</td>\n",
              "      <td>diesel</td>\n",
              "      <td>jeep</td>\n",
              "      <td>NaN</td>\n",
              "    </tr>\n",
              "    <tr>\n",
              "      <th>8</th>\n",
              "      <td>14500</td>\n",
              "      <td>control</td>\n",
              "      <td>bus</td>\n",
              "      <td>2014</td>\n",
              "      <td>manuell</td>\n",
              "      <td>125</td>\n",
              "      <td>c_max</td>\n",
              "      <td>30000</td>\n",
              "      <td>8</td>\n",
              "      <td>benzin</td>\n",
              "      <td>ford</td>\n",
              "      <td>NaN</td>\n",
              "    </tr>\n",
              "    <tr>\n",
              "      <th>9</th>\n",
              "      <td>999</td>\n",
              "      <td>test</td>\n",
              "      <td>kleinwagen</td>\n",
              "      <td>1998</td>\n",
              "      <td>manuell</td>\n",
              "      <td>101</td>\n",
              "      <td>golf</td>\n",
              "      <td>150000</td>\n",
              "      <td>0</td>\n",
              "      <td>NaN</td>\n",
              "      <td>volkswagen</td>\n",
              "      <td>NaN</td>\n",
              "    </tr>\n",
              "    <tr>\n",
              "      <th>12</th>\n",
              "      <td>999</td>\n",
              "      <td>control</td>\n",
              "      <td>kombi</td>\n",
              "      <td>1995</td>\n",
              "      <td>manuell</td>\n",
              "      <td>115</td>\n",
              "      <td>passat</td>\n",
              "      <td>150000</td>\n",
              "      <td>11</td>\n",
              "      <td>benzin</td>\n",
              "      <td>volkswagen</td>\n",
              "      <td>NaN</td>\n",
              "    </tr>\n",
              "    <tr>\n",
              "      <th>...</th>\n",
              "      <td>...</td>\n",
              "      <td>...</td>\n",
              "      <td>...</td>\n",
              "      <td>...</td>\n",
              "      <td>...</td>\n",
              "      <td>...</td>\n",
              "      <td>...</td>\n",
              "      <td>...</td>\n",
              "      <td>...</td>\n",
              "      <td>...</td>\n",
              "      <td>...</td>\n",
              "      <td>...</td>\n",
              "    </tr>\n",
              "    <tr>\n",
              "      <th>371507</th>\n",
              "      <td>5999</td>\n",
              "      <td>test</td>\n",
              "      <td>kombi</td>\n",
              "      <td>2005</td>\n",
              "      <td>manuell</td>\n",
              "      <td>140</td>\n",
              "      <td>a4</td>\n",
              "      <td>150000</td>\n",
              "      <td>4</td>\n",
              "      <td>diesel</td>\n",
              "      <td>audi</td>\n",
              "      <td>NaN</td>\n",
              "    </tr>\n",
              "    <tr>\n",
              "      <th>371514</th>\n",
              "      <td>999</td>\n",
              "      <td>control</td>\n",
              "      <td>cabrio</td>\n",
              "      <td>2000</td>\n",
              "      <td>manuell</td>\n",
              "      <td>95</td>\n",
              "      <td>megane</td>\n",
              "      <td>150000</td>\n",
              "      <td>4</td>\n",
              "      <td>benzin</td>\n",
              "      <td>renault</td>\n",
              "      <td>NaN</td>\n",
              "    </tr>\n",
              "    <tr>\n",
              "      <th>371515</th>\n",
              "      <td>1690</td>\n",
              "      <td>test</td>\n",
              "      <td>kombi</td>\n",
              "      <td>2004</td>\n",
              "      <td>manuell</td>\n",
              "      <td>55</td>\n",
              "      <td>fabia</td>\n",
              "      <td>150000</td>\n",
              "      <td>4</td>\n",
              "      <td>benzin</td>\n",
              "      <td>skoda</td>\n",
              "      <td>NaN</td>\n",
              "    </tr>\n",
              "    <tr>\n",
              "      <th>371523</th>\n",
              "      <td>2200</td>\n",
              "      <td>test</td>\n",
              "      <td>NaN</td>\n",
              "      <td>2005</td>\n",
              "      <td>NaN</td>\n",
              "      <td>0</td>\n",
              "      <td>NaN</td>\n",
              "      <td>20000</td>\n",
              "      <td>1</td>\n",
              "      <td>NaN</td>\n",
              "      <td>sonstige_autos</td>\n",
              "      <td>NaN</td>\n",
              "    </tr>\n",
              "    <tr>\n",
              "      <th>371526</th>\n",
              "      <td>3400</td>\n",
              "      <td>test</td>\n",
              "      <td>kombi</td>\n",
              "      <td>2002</td>\n",
              "      <td>manuell</td>\n",
              "      <td>100</td>\n",
              "      <td>golf</td>\n",
              "      <td>150000</td>\n",
              "      <td>6</td>\n",
              "      <td>diesel</td>\n",
              "      <td>volkswagen</td>\n",
              "      <td>NaN</td>\n",
              "    </tr>\n",
              "  </tbody>\n",
              "</table>\n",
              "<p>65986 rows × 12 columns</p>\n",
              "</div>"
            ],
            "text/plain": [
              "        price   abtest vehicleType  ...  fuelType           brand  notRepairedDamage\n",
              "0         480     test         NaN  ...    benzin      volkswagen                NaN\n",
              "2        9800     test         suv  ...    diesel            jeep                NaN\n",
              "8       14500  control         bus  ...    benzin            ford                NaN\n",
              "9         999     test  kleinwagen  ...       NaN      volkswagen                NaN\n",
              "12        999  control       kombi  ...    benzin      volkswagen                NaN\n",
              "...       ...      ...         ...  ...       ...             ...                ...\n",
              "371507   5999     test       kombi  ...    diesel            audi                NaN\n",
              "371514    999  control      cabrio  ...    benzin         renault                NaN\n",
              "371515   1690     test       kombi  ...    benzin           skoda                NaN\n",
              "371523   2200     test         NaN  ...       NaN  sonstige_autos                NaN\n",
              "371526   3400     test       kombi  ...    diesel      volkswagen                NaN\n",
              "\n",
              "[65986 rows x 12 columns]"
            ]
          },
          "metadata": {},
          "execution_count": 35
        }
      ]
    },
    {
      "cell_type": "code",
      "metadata": {
        "colab": {
          "base_uri": "https://localhost:8080/"
        },
        "id": "N0cPBKGm8m70",
        "outputId": "fca1f156-ba9b-4d6c-ad1e-6b68c1236e6d"
      },
      "source": [
        "base['notRepairedDamage'].value_counts()"
      ],
      "execution_count": 36,
      "outputs": [
        {
          "output_type": "execute_result",
          "data": {
            "text/plain": [
              "nein    259301\n",
              "ja       34004\n",
              "Name: notRepairedDamage, dtype: int64"
            ]
          },
          "metadata": {},
          "execution_count": 36
        }
      ]
    },
    {
      "cell_type": "code",
      "metadata": {
        "id": "cAbWFgNb8rhD"
      },
      "source": [
        "valores = {'vehicleType': 'limousine', 'gearbox': 'manuell',\n",
        "           'model': 'golf', 'fuelType': 'benzin',\n",
        "           'notRepairedDamage': 'nein'}\n",
        "base = base.fillna(value = valores)"
      ],
      "execution_count": 37,
      "outputs": []
    },
    {
      "cell_type": "code",
      "metadata": {
        "id": "q2jvlO6v9sct"
      },
      "source": [
        "previsores = base.iloc[:, 1:13].values\n",
        "preco_real = base.iloc[:, 0].values"
      ],
      "execution_count": 38,
      "outputs": []
    },
    {
      "cell_type": "code",
      "metadata": {
        "colab": {
          "base_uri": "https://localhost:8080/"
        },
        "id": "g_2UYiYH-qrV",
        "outputId": "c16c7e2f-30b4-4847-e9d8-a5d4c6fc465f"
      },
      "source": [
        "print(previsores)"
      ],
      "execution_count": 39,
      "outputs": [
        {
          "output_type": "stream",
          "name": "stdout",
          "text": [
            "[['test' 'limousine' 1993 ... 'benzin' 'volkswagen' 'nein']\n",
            " ['test' 'coupe' 2011 ... 'diesel' 'audi' 'ja']\n",
            " ['test' 'suv' 2004 ... 'diesel' 'jeep' 'nein']\n",
            " ...\n",
            " ['test' 'bus' 1996 ... 'diesel' 'volkswagen' 'nein']\n",
            " ['test' 'kombi' 2002 ... 'diesel' 'volkswagen' 'nein']\n",
            " ['control' 'limousine' 2013 ... 'benzin' 'bmw' 'nein']]\n"
          ]
        }
      ]
    },
    {
      "cell_type": "code",
      "metadata": {
        "id": "oAYHLLJe_MFT"
      },
      "source": [
        "from sklearn.preprocessing import OneHotEncoder\n",
        "from sklearn.compose import ColumnTransformer"
      ],
      "execution_count": 40,
      "outputs": []
    },
    {
      "cell_type": "code",
      "metadata": {
        "id": "AMKG0JHt_tDl"
      },
      "source": [
        "onehotencoder = ColumnTransformer(transformers=[(\"OneHot\", OneHotEncoder(), [0,1,3,5,8,9,10])],remainder='passthrough')\n",
        "previsores = onehotencoder.fit_transform(previsores).toarray()"
      ],
      "execution_count": 49,
      "outputs": []
    },
    {
      "cell_type": "code",
      "metadata": {
        "colab": {
          "base_uri": "https://localhost:8080/"
        },
        "id": "uYTC1F5VBjau",
        "outputId": "6d2e132c-dd96-4588-9d0a-9deb1425e9b8"
      },
      "source": [
        "print(previsores)"
      ],
      "execution_count": 50,
      "outputs": [
        {
          "output_type": "stream",
          "name": "stdout",
          "text": [
            "[[0.00e+00 1.00e+00 0.00e+00 ... 0.00e+00 1.50e+05 0.00e+00]\n",
            " [0.00e+00 1.00e+00 0.00e+00 ... 1.90e+02 1.25e+05 5.00e+00]\n",
            " [0.00e+00 1.00e+00 0.00e+00 ... 1.63e+02 1.25e+05 8.00e+00]\n",
            " ...\n",
            " [0.00e+00 1.00e+00 0.00e+00 ... 1.02e+02 1.50e+05 3.00e+00]\n",
            " [0.00e+00 1.00e+00 0.00e+00 ... 1.00e+02 1.50e+05 6.00e+00]\n",
            " [1.00e+00 0.00e+00 0.00e+00 ... 3.20e+02 5.00e+04 8.00e+00]]\n"
          ]
        }
      ]
    },
    {
      "cell_type": "code",
      "metadata": {
        "colab": {
          "base_uri": "https://localhost:8080/"
        },
        "id": "PfWy-nuWCJfk",
        "outputId": "437df0ac-048e-401f-f696-5eb68ff51352"
      },
      "source": [
        "regressor = Sequential([\n",
        "        tf.keras.layers.Dense(units=158, activation = 'relu', input_dim=316),\n",
        "        tf.keras.layers.Dense(units=158, activation = 'relu'),\n",
        "        tf.keras.layers.Dense(units=1, activation = 'linear')])\n",
        "\n",
        "regressor.compile(loss = 'mean_absolute_error', optimizer = 'adam',\n",
        "                  metrics = ['mean_absolute_error'])\n",
        "regressor.fit(previsores, preco_real, batch_size = 300, epochs = 10)"
      ],
      "execution_count": 55,
      "outputs": [
        {
          "output_type": "stream",
          "name": "stdout",
          "text": [
            "Epoch 1/10\n",
            "1198/1198 [==============================] - 8s 6ms/step - loss: 3839.6741 - mean_absolute_error: 3839.6741\n",
            "Epoch 2/10\n",
            "1198/1198 [==============================] - 7s 6ms/step - loss: 3391.6353 - mean_absolute_error: 3391.6353\n",
            "Epoch 3/10\n",
            "1198/1198 [==============================] - 7s 6ms/step - loss: 3103.3660 - mean_absolute_error: 3103.3660\n",
            "Epoch 4/10\n",
            "1198/1198 [==============================] - 7s 6ms/step - loss: 2917.2112 - mean_absolute_error: 2917.2112\n",
            "Epoch 5/10\n",
            "1198/1198 [==============================] - 7s 6ms/step - loss: 2817.2932 - mean_absolute_error: 2817.2932\n",
            "Epoch 6/10\n",
            "1198/1198 [==============================] - 7s 6ms/step - loss: 2746.6597 - mean_absolute_error: 2746.6597\n",
            "Epoch 7/10\n",
            "1198/1198 [==============================] - 7s 6ms/step - loss: 2713.7864 - mean_absolute_error: 2713.7864\n",
            "Epoch 8/10\n",
            "1198/1198 [==============================] - 7s 6ms/step - loss: 2676.0999 - mean_absolute_error: 2676.0999\n",
            "Epoch 9/10\n",
            "1198/1198 [==============================] - 7s 6ms/step - loss: 2623.5464 - mean_absolute_error: 2623.5464\n",
            "Epoch 10/10\n",
            "1198/1198 [==============================] - 7s 6ms/step - loss: 2590.5801 - mean_absolute_error: 2590.5801\n"
          ]
        },
        {
          "output_type": "execute_result",
          "data": {
            "text/plain": [
              "<keras.callbacks.History at 0x7f0bb456ae90>"
            ]
          },
          "metadata": {},
          "execution_count": 55
        }
      ]
    },
    {
      "cell_type": "code",
      "metadata": {
        "id": "bF3wT4sCFYzG"
      },
      "source": [
        "previsoes = regressor.predict(previsores)"
      ],
      "execution_count": 60,
      "outputs": []
    },
    {
      "cell_type": "code",
      "metadata": {
        "colab": {
          "base_uri": "https://localhost:8080/"
        },
        "id": "C5ozl-FvFuU6",
        "outputId": "28a5754c-75de-4a22-81a8-ab4e84a68f7c"
      },
      "source": [
        "previsoes.mean()"
      ],
      "execution_count": 61,
      "outputs": [
        {
          "output_type": "execute_result",
          "data": {
            "text/plain": [
              "6311.477"
            ]
          },
          "metadata": {},
          "execution_count": 61
        }
      ]
    },
    {
      "cell_type": "code",
      "metadata": {
        "colab": {
          "base_uri": "https://localhost:8080/"
        },
        "id": "sWo5xxrAF-Nz",
        "outputId": "5330bbca-6a80-4cee-eeee-cfc1ab30ad9a"
      },
      "source": [
        "preco_real.mean()"
      ],
      "execution_count": 62,
      "outputs": [
        {
          "output_type": "execute_result",
          "data": {
            "text/plain": [
              "5916.833945186492"
            ]
          },
          "metadata": {},
          "execution_count": 62
        }
      ]
    }
  ]
}